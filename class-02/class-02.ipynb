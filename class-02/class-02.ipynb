{
 "cells": [
  {
   "cell_type": "code",
   "execution_count": 60,
   "metadata": {},
   "outputs": [
    {
     "name": "stdout",
     "output_type": "stream",
     "text": [
      "name\n"
     ]
    }
   ],
   "source": [
    "print(\"name\")"
   ]
  },
  {
   "cell_type": "code",
   "execution_count": 61,
   "metadata": {},
   "outputs": [
    {
     "name": "stdout",
     "output_type": "stream",
     "text": [
      "MuHAMMad JibrAN REhaN\n"
     ]
    }
   ],
   "source": [
    "print(name)"
   ]
  },
  {
   "cell_type": "code",
   "execution_count": 62,
   "metadata": {},
   "outputs": [
    {
     "name": "stdout",
     "output_type": "stream",
     "text": [
      "Muhammad Jibran Rehan\n"
     ]
    }
   ],
   "source": [
    "name : str = \"Muhammad Jibran Rehan\"\n",
    "\n",
    "print(name)"
   ]
  },
  {
   "cell_type": "code",
   "execution_count": 63,
   "metadata": {},
   "outputs": [
    {
     "name": "stdout",
     "output_type": "stream",
     "text": [
      "<class 'str'>\n",
      "Muhammad Jibran Rehan\n"
     ]
    }
   ],
   "source": [
    "name : str = \"Muhammad Jibran Rehan\"\n",
    "\n",
    "print(type(name))\n",
    "print(name)"
   ]
  },
  {
   "cell_type": "code",
   "execution_count": 64,
   "metadata": {},
   "outputs": [
    {
     "name": "stdout",
     "output_type": "stream",
     "text": [
      "<class 'str'>\n",
      "Muhammad Jibran Rehan\n"
     ]
    }
   ],
   "source": [
    "name : str = 'Muhammad Jibran Rehan'\n",
    "\n",
    "print(type(name))\n",
    "print(name)"
   ]
  },
  {
   "cell_type": "code",
   "execution_count": 65,
   "metadata": {},
   "outputs": [
    {
     "name": "stdout",
     "output_type": "stream",
     "text": [
      "<class 'str'>\n",
      "Muhammad Jibran Rehan\n"
     ]
    }
   ],
   "source": [
    "name : str = \"\"\"Muhammad Jibran Rehan\"\"\"\n",
    "\n",
    "print(type(name))\n",
    "print(name)"
   ]
  },
  {
   "cell_type": "code",
   "execution_count": 66,
   "metadata": {},
   "outputs": [
    {
     "name": "stdout",
     "output_type": "stream",
     "text": [
      "Python Students \n",
      " father's Name\n"
     ]
    }
   ],
   "source": [
    "message : str = \"Python Students \\n father's Name\"\n",
    "print(message)"
   ]
  },
  {
   "cell_type": "code",
   "execution_count": 67,
   "metadata": {},
   "outputs": [
    {
     "name": "stdout",
     "output_type": "stream",
     "text": [
      "\"Python\" Students \n",
      " father Name\n"
     ]
    }
   ],
   "source": [
    "message : str = '\"Python\" Students \\n father Name'\n",
    "print(message)"
   ]
  },
  {
   "cell_type": "code",
   "execution_count": 68,
   "metadata": {},
   "outputs": [
    {
     "name": "stdout",
     "output_type": "stream",
     "text": [
      " \"Python\" Students \n",
      " father's Name\n"
     ]
    }
   ],
   "source": [
    "message : str = \"\"\" \"Python\" Students \\n father's Name\"\"\"\n",
    "print(message)"
   ]
  },
  {
   "cell_type": "code",
   "execution_count": 69,
   "metadata": {},
   "outputs": [
    {
     "name": "stdout",
     "output_type": "stream",
     "text": [
      "Python Student Card\n",
      " Student Name: Muhammad Jibran Rehan\n",
      " Age:15\n",
      " Father Name: Rehan Farooq Ul Haq\n",
      " Education: IX\n"
     ]
    }
   ],
   "source": [
    "name : str = \"Muhammad Jibran Rehan\"\n",
    "father_name : str = \"Rehan Farooq Ul Haq\"\n",
    "education : str = \"IX\"\n",
    "age : int = \"15\"\n",
    "age1 : int = str(15)\n",
    "\n",
    "card : str = \"Python Student Card\\n Student Name: \"+ name + \"\\n Age:\" + age + \"\\n Father Name: \" + father_name + \"\\n Education: \" + education\n",
    "print(card)"
   ]
  },
  {
   "cell_type": "code",
   "execution_count": 70,
   "metadata": {},
   "outputs": [
    {
     "name": "stdout",
     "output_type": "stream",
     "text": [
      "17\n"
     ]
    }
   ],
   "source": [
    "print(7 + 8 + 2)"
   ]
  },
  {
   "cell_type": "markdown",
   "metadata": {},
   "source": [
    "# \" \\\\\" means line continue"
   ]
  },
  {
   "cell_type": "code",
   "execution_count": 71,
   "metadata": {},
   "outputs": [
    {
     "name": "stdout",
     "output_type": "stream",
     "text": [
      "17\n"
     ]
    }
   ],
   "source": [
    "print(7 + \\\n",
    "      8 + \\\n",
    "      2)"
   ]
  },
  {
   "cell_type": "markdown",
   "metadata": {},
   "source": [
    "## Define multi line string \"\"\" \"\"\", ''' '''"
   ]
  },
  {
   "cell_type": "code",
   "execution_count": 72,
   "metadata": {},
   "outputs": [
    {
     "name": "stdout",
     "output_type": "stream",
     "text": [
      "\n",
      "Python Student Card\n",
      "Student Name: ....\n",
      "Father Name: .....\n",
      "Education: .....\n",
      "Age: .....\n",
      "\n"
     ]
    }
   ],
   "source": [
    "name : str = \"Muhammad Jibran Rehan\"\n",
    "father_name : str = \"Rehan Farooq Ul Haq\"\n",
    "education : str = \"IX\"\n",
    "age : int = 15\n",
    "\n",
    "card : str = \"\"\"\n",
    "Python Student Card\n",
    "Student Name: ....\n",
    "Father Name: .....\n",
    "Education: .....\n",
    "Age: .....\n",
    "\"\"\"\n",
    "\n",
    "print(card)"
   ]
  },
  {
   "cell_type": "markdown",
   "metadata": {},
   "source": [
    "# F string"
   ]
  },
  {
   "cell_type": "code",
   "execution_count": 73,
   "metadata": {},
   "outputs": [
    {
     "name": "stdout",
     "output_type": "stream",
     "text": [
      "\n",
      "Python Student Card\n",
      "Student Name: Muhammad Jibran Rehan\n",
      "Father Name: Rehan Farooq Ul Haq\n",
      "Education: IX\n",
      "Age: 15\n",
      "Total 17\n",
      "\n"
     ]
    }
   ],
   "source": [
    "name : str = \"Muhammad Jibran Rehan\"\n",
    "father_name : str = \"Rehan Farooq Ul Haq\"\n",
    "education : str = \"IX\"\n",
    "age : int = 15\n",
    "\n",
    "card : str = f\"\"\"\n",
    "Python Student Card\n",
    "Student Name: {name}\n",
    "Father Name: {father_name}\n",
    "Education: {education}\n",
    "Age: {age}\n",
    "Total {7 + 8 + 2}\n",
    "\"\"\"\n",
    "\n",
    "print(card)"
   ]
  },
  {
   "cell_type": "markdown",
   "metadata": {},
   "source": [
    "F-string and Jinja style"
   ]
  },
  {
   "cell_type": "code",
   "execution_count": null,
   "metadata": {},
   "outputs": [
    {
     "data": {
      "text/plain": [
       "'\"\\nStudent name Muhammad Jibran Rehan\\n'"
      ]
     },
     "execution_count": 74,
     "metadata": {},
     "output_type": "execute_result"
    }
   ],
   "source": [
    "# F-STRING STYLE\n",
    "f\"\"\"\"\n",
    "Student name {name}\n",
    "\"\"\""
   ]
  },
  {
   "cell_type": "code",
   "execution_count": 75,
   "metadata": {},
   "outputs": [
    {
     "data": {
      "text/plain": [
       "'\"\\nStudent name {{name}}\\n'"
      ]
     },
     "execution_count": 75,
     "metadata": {},
     "output_type": "execute_result"
    }
   ],
   "source": [
    "# JINJA STYLE\n",
    "\"\"\"\"\n",
    "Student name {{name}}\n",
    "\"\"\""
   ]
  },
  {
   "cell_type": "code",
   "execution_count": 76,
   "metadata": {},
   "outputs": [
    {
     "name": "stdout",
     "output_type": "stream",
     "text": [
      "\n",
      "Python Student Card\n",
      "Student Name: Muhammad Jibran Rehan\n",
      "Father Name: Rehan Farooq Ul Haq\n",
      "Age: 15\n",
      "Education: IX \n",
      "\n",
      "\n"
     ]
    }
   ],
   "source": [
    "name : str = \"Muhammad Jibran Rehan\"\n",
    "fname : str = \"Rehan Farooq Ul Haq\"\n",
    "education : str = \"IX\"\n",
    "age : int = 15\n",
    "\n",
    "card : str = f\"\"\"\n",
    "Python Student Card\n",
    "Student Name: %s\n",
    "Father Name: %s\n",
    "Age: %d\n",
    "Education: %s \n",
    "\n",
    "\"\"\" % (name, fname, age, education)\n",
    "\n",
    "print(card)"
   ]
  },
  {
   "cell_type": "code",
   "execution_count": null,
   "metadata": {},
   "outputs": [
    {
     "data": {
      "text/plain": [
       "['capitalize',\n",
       " 'casefold',\n",
       " 'center',\n",
       " 'count',\n",
       " 'encode',\n",
       " 'endswith',\n",
       " 'expandtabs',\n",
       " 'find',\n",
       " 'format',\n",
       " 'format_map',\n",
       " 'index',\n",
       " 'isalnum',\n",
       " 'isalpha',\n",
       " 'isascii',\n",
       " 'isdecimal',\n",
       " 'isdigit',\n",
       " 'isidentifier',\n",
       " 'islower',\n",
       " 'isnumeric',\n",
       " 'isprintable',\n",
       " 'isspace',\n",
       " 'istitle',\n",
       " 'isupper',\n",
       " 'join',\n",
       " 'ljust',\n",
       " 'lower',\n",
       " 'lstrip',\n",
       " 'maketrans',\n",
       " 'partition',\n",
       " 'removeprefix',\n",
       " 'removesuffix',\n",
       " 'replace',\n",
       " 'rfind',\n",
       " 'rindex',\n",
       " 'rjust',\n",
       " 'rpartition',\n",
       " 'rsplit',\n",
       " 'rstrip',\n",
       " 'split',\n",
       " 'splitlines',\n",
       " 'startswith',\n",
       " 'strip',\n",
       " 'swapcase',\n",
       " 'title',\n",
       " 'translate',\n",
       " 'upper',\n",
       " 'zfill']"
      ]
     },
     "metadata": {},
     "output_type": "display_data"
    }
   ],
   "source": [
    "[i for i in dir(name) if \"__\" not in i]"
   ]
  },
  {
   "cell_type": "code",
   "execution_count": 2,
   "metadata": {},
   "outputs": [
    {
     "data": {
      "text/plain": [
       "'pakistan vallue a = 7 and b = 8'"
      ]
     },
     "execution_count": 2,
     "metadata": {},
     "output_type": "execute_result"
    }
   ],
   "source": [
    "a = 7\n",
    "b = 8\n",
    "# {} placeholder\n",
    "# \n",
    "\"pakistan vallue a = {} and b = {}\".format(a, b)"
   ]
  },
  {
   "cell_type": "code",
   "execution_count": 77,
   "metadata": {},
   "outputs": [
    {
     "name": "stdout",
     "output_type": "stream",
     "text": [
      "MUHAMMAD JIBRAN REHAN\n",
      "muhammad jibran rehan\n",
      "Muhammad Jibran Rehan\n"
     ]
    }
   ],
   "source": [
    "name : str = \"MuHAMMad JibrAN REhaN\"\n",
    "\n",
    "print(name.upper())\n",
    "print(name.lower())\n",
    "print(name.title())"
   ]
  },
  {
   "cell_type": "code",
   "execution_count": null,
   "metadata": {},
   "outputs": [
    {
     "name": "stdout",
     "output_type": "stream",
     "text": [
      "\n",
      "Python Student Card\n",
      "Student Name: Muhammad Jibran Rehan\n",
      "Father Name: Rehan Farooq Ul Haq\n",
      "Education: 15\n",
      "Age: IX\n",
      "\n"
     ]
    }
   ],
   "source": [
    "name : str = \"Muhammad Jibran Rehan\"\n",
    "father_name : str = \"Rehan Farooq Ul Haq\"\n",
    "education : str = \"IX\"\n",
    "age : int = 15\n",
    "\n",
    "card : str = \"\"\"\n",
    "Python Student Card\n",
    "Student Name: {}\n",
    "Father Name: {}\n",
    "Education: {}\n",
    "Age: {}\n",
    "\"\"\".format(name, father_name, age, education)\n",
    "\n",
    "print(card)"
   ]
  },
  {
   "cell_type": "code",
   "execution_count": 8,
   "metadata": {},
   "outputs": [
    {
     "name": "stdout",
     "output_type": "stream",
     "text": [
      "\n",
      "Python Student Card\n",
      "Student Name: Muhammad Jibran Rehan\n",
      "Father Name: Rehan Farooq Ul Haq\n",
      "Education: IX\n",
      "Age: 15\n",
      "\n"
     ]
    }
   ],
   "source": [
    "name : str = \"Muhammad Jibran Rehan\"\n",
    "father_name : str = \"Rehan Farooq Ul Haq\"\n",
    "education : str = \"IX\"\n",
    "age : int = 15\n",
    "\n",
    "card : str = \"\"\"\n",
    "Python Student Card\n",
    "Student Name: {0}\n",
    "Father Name: {1}\n",
    "Education: {3}\n",
    "Age: {2}\n",
    "\"\"\".format(name, father_name, age, education)\n",
    "#            0       1         2        3\n",
    "\n",
    "\n",
    "print(card)"
   ]
  },
  {
   "cell_type": "code",
   "execution_count": null,
   "metadata": {},
   "outputs": [
    {
     "name": "stdout",
     "output_type": "stream",
     "text": [
      "\n",
      "Python Student Card\n",
      "Student Name: Muhammad Jibran Rehan\n",
      "Father Name: Rehan Farooq Ul Haq\n",
      "Education: IX\n",
      "Age: 15\n",
      "\n"
     ]
    }
   ],
   "source": [
    "name : str = \"Muhammad Jibran Rehan\"\n",
    "father_name : str = \"Rehan Farooq Ul Haq\"\n",
    "education : str = \"IX\"\n",
    "age : int = 15\n",
    "\n",
    "card : str = \"\"\"\n",
    "Python Student Card\n",
    "Student Name: {a}\n",
    "Father Name: {b}\n",
    "Education: {c}\n",
    "Age: {d}\n",
    "\"\"\".format(a=name, b=father_name, c=education, d=age)\n",
    "#            0       1         2        3\n",
    "\n",
    "\n",
    "print(card)"
   ]
  },
  {
   "cell_type": "markdown",
   "metadata": {},
   "source": [
    "# Recommended below two f-string format"
   ]
  },
  {
   "cell_type": "code",
   "execution_count": null,
   "metadata": {},
   "outputs": [],
   "source": [
    "name : str = \"Muhammad Jibran Rehan\"\n",
    "father_name : str = \"Rehan Farooq Ul Haq\"\n",
    "education : str = \"IX\"\n",
    "age : int = 15\n",
    "\n",
    "card : str = f\"\"\"\n",
    "Python Student Card\n",
    "Student Name: {name}\n",
    "Father Name: {father_name}\n",
    "Education: {education}\n",
    "Age: {age}\n",
    "Total {7 + 8 + 2}\n",
    "\"\"\"\n",
    "\n",
    "print(card)"
   ]
  },
  {
   "cell_type": "code",
   "execution_count": 20,
   "metadata": {},
   "outputs": [
    {
     "name": "stdout",
     "output_type": "stream",
     "text": [
      "My Name is Muhammad Jibran Rehan\n",
      "15\n"
     ]
    }
   ],
   "source": [
    "student_code : str = \"\"\"\n",
    "print(\"My Name is Muhammad Jibran Rehan\")\n",
    "a : int = 7\n",
    "b : int = 8\n",
    "print(a + b)\n",
    "\"\"\"\n",
    "\n",
    "exec(student_code)"
   ]
  },
  {
   "cell_type": "markdown",
   "metadata": {},
   "source": [
    "# Explore String methods and attributes\n",
    "\n",
    "pre-defined global functions we have used\n",
    "* print\n",
    "* type\n",
    "* id\n",
    "* dir\n",
    "* len"
   ]
  },
  {
   "cell_type": "code",
   "execution_count": 26,
   "metadata": {},
   "outputs": [
    {
     "name": "stdout",
     "output_type": "stream",
     "text": [
      "['capitalize', 'casefold', 'center', 'count', 'encode', 'endswith', 'expandtabs', 'find', 'format', 'format_map', 'index', 'isalnum', 'isalpha', 'isascii', 'isdecimal', 'isdigit', 'isidentifier', 'islower', 'isnumeric', 'isprintable', 'isspace', 'istitle', 'isupper', 'join', 'ljust', 'lower', 'lstrip', 'maketrans', 'partition', 'removeprefix', 'removesuffix', 'replace', 'rfind', 'rindex', 'rjust', 'rpartition', 'rsplit', 'rstrip', 'split', 'splitlines', 'startswith', 'strip', 'swapcase', 'title', 'translate', 'upper', 'zfill']\n",
      "47\n"
     ]
    }
   ],
   "source": [
    "a : list[str] = [i for i in dir(str) if \"__\" not in i]\n",
    "print(a)\n",
    "print(len(a))"
   ]
  },
  {
   "cell_type": "code",
   "execution_count": 33,
   "metadata": {},
   "outputs": [
    {
     "name": "stdout",
     "output_type": "stream",
     "text": [
      "Muhammad JiBRaN REhaN\n",
      "Muhammad jibran rehan\n"
     ]
    }
   ],
   "source": [
    "name : str = \"Muhammad JiBRaN REhaN\"\n",
    "\n",
    "#variable_name.method()\n",
    "# for capitalizing the first letter of the string\n",
    "print(name)\n",
    "print(name.capitalize())"
   ]
  },
  {
   "cell_type": "code",
   "execution_count": 34,
   "metadata": {},
   "outputs": [
    {
     "name": "stdout",
     "output_type": "stream",
     "text": [
      "Muhammad JiBRaN REhaN\n",
      "muhammad jibran rehan\n"
     ]
    }
   ],
   "source": [
    "name : str = \"Muhammad JiBRaN REhaN\"\n",
    "\n",
    "#variable_name.method()\n",
    "# casefold() is used to convert the string into lowercase\n",
    "print(name)\n",
    "print(name.casefold())"
   ]
  },
  {
   "cell_type": "code",
   "execution_count": 55,
   "metadata": {},
   "outputs": [
    {
     "name": "stdout",
     "output_type": "stream",
     "text": [
      "     Muhammad JiBRaN REhaN     \n"
     ]
    },
    {
     "data": {
      "text/plain": [
       "'     Muhammad JiBRaN REhaN     '"
      ]
     },
     "metadata": {},
     "output_type": "display_data"
    },
    {
     "data": {
      "text/plain": [
       "'Muhammad JiBRaN REhaN     '"
      ]
     },
     "metadata": {},
     "output_type": "display_data"
    },
    {
     "data": {
      "text/plain": [
       "'     Muhammad JiBRaN REhaN'"
      ]
     },
     "metadata": {},
     "output_type": "display_data"
    },
    {
     "name": "stdout",
     "output_type": "stream",
     "text": [
      "     Muhammad JiBRaN REhaN\n",
      "Muhammad JiBRaN REhaN     \n",
      "Muhammad JiBRaN REhaN\n"
     ]
    }
   ],
   "source": [
    "name : str = \"     Muhammad JiBRaN REhaN     \"\n",
    "\n",
    "#variable_name.method()\n",
    "# for removing the white spaces from the start and end of the string\n",
    "# strip() is used to remove the white spaces from the start and end of the string\n",
    "#  lstrip() is used to remove the white spaces from the start of the string\n",
    "#  display() is used to remove the white spaces from the end of the string\n",
    "# rstrip() is used to remove the white spaces from the end of the string\n",
    "\n",
    "print(name)\n",
    "display(name)\n",
    "display(name.lstrip())\n",
    "display(name.rstrip())\n",
    "print(name.rstrip())\n",
    "print(name.lstrip())\n",
    "print(name.strip())"
   ]
  },
  {
   "cell_type": "code",
   "execution_count": 69,
   "metadata": {},
   "outputs": [
    {
     "name": "stdout",
     "output_type": "stream",
     "text": [
      "     Muhammad                  JiBRaN     REhaN     \n"
     ]
    },
    {
     "data": {
      "text/plain": [
       "'     Muhammad                  JiBRaN     REhaN     '"
      ]
     },
     "metadata": {},
     "output_type": "display_data"
    },
    {
     "name": "stdout",
     "output_type": "stream",
     "text": [
      " Muhammad JiBRaN REhaN \n"
     ]
    },
    {
     "data": {
      "text/plain": [
       "' Muhammad JiBRaN REhaN '"
      ]
     },
     "metadata": {},
     "output_type": "display_data"
    },
    {
     "name": "stdout",
     "output_type": "stream",
     "text": [
      "Muhammad JiBRaN REhaN\n"
     ]
    },
    {
     "data": {
      "text/plain": [
       "'Muhammad JiBRaN REhaN'"
      ]
     },
     "metadata": {},
     "output_type": "display_data"
    }
   ],
   "source": [
    "import re\n",
    "name : str = \"     Muhammad                  JiBRaN     REhaN     \"\n",
    "\n",
    "\n",
    "print(name)\n",
    "display(name)\n",
    "\n",
    "name1 : str = re.sub(\" {2,100}\",\" \", name)\n",
    "print(name1)\n",
    "display(name1)\n",
    "name2 : str = re.sub(\" {2,100}\",\" \", name.strip())\n",
    "print(name2)\n",
    "display(name2)"
   ]
  },
  {
   "cell_type": "code",
   "execution_count": null,
   "metadata": {},
   "outputs": [
    {
     "name": "stdout",
     "output_type": "stream",
     "text": [
      "Muhammad Jibran Rehan\n",
      "Muhammad    Jibran    Rehan\n"
     ]
    }
   ],
   "source": [
    "first_name : str = \"Muhammad Jibran\"\n",
    "last_name : str = \"Rehan\"\n",
    "full_name : str = f\"{first_name} {last_name}\"\n",
    "print(full_name)"
   ]
  },
  {
   "cell_type": "code",
   "execution_count": 82,
   "metadata": {},
   "outputs": [
    {
     "data": {
      "text/plain": [
       "'notstarach.com'"
      ]
     },
     "execution_count": 82,
     "metadata": {},
     "output_type": "execute_result"
    }
   ],
   "source": [
    "notstrarch_url : str = \"https://notstarach.com\"\n",
    "notstrarch_url.removeprefix('https://')"
   ]
  }
 ],
 "metadata": {
  "kernelspec": {
   "display_name": "python14",
   "language": "python",
   "name": "python3"
  },
  "language_info": {
   "codemirror_mode": {
    "name": "ipython",
    "version": 3
   },
   "file_extension": ".py",
   "mimetype": "text/x-python",
   "name": "python",
   "nbconvert_exporter": "python",
   "pygments_lexer": "ipython3",
   "version": "3.12.0"
  }
 },
 "nbformat": 4,
 "nbformat_minor": 2
}
