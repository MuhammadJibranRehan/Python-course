{
 "cells": [
  {
   "cell_type": "markdown",
   "metadata": {},
   "source": [
    "# I'm so happy to start python class with static type"
   ]
  },
  {
   "cell_type": "code",
   "execution_count": 3,
   "metadata": {},
   "outputs": [
    {
     "name": "stdout",
     "output_type": "stream",
     "text": [
      "Hello World\n"
     ]
    }
   ],
   "source": [
    "print(\"Hello World\")"
   ]
  },
  {
   "cell_type": "code",
   "execution_count": 2,
   "metadata": {},
   "outputs": [
    {
     "name": "stdout",
     "output_type": "stream",
     "text": [
      "Hello\n",
      "World\n",
      "Hello World\n",
      "Hello World\n",
      "Hello World\n"
     ]
    }
   ],
   "source": [
    "print(\"Hello\") # 2 sec\n",
    "print(\"World\")\n",
    "print(\"Hello World\")\n",
    "print(\"Hello World\")\n",
    "print(\"Hello World\")  # 4 hours"
   ]
  },
  {
   "cell_type": "code",
   "execution_count": 1,
   "metadata": {},
   "outputs": [
    {
     "name": "stdout",
     "output_type": "stream",
     "text": [
      "Hello World abc\n",
      "Hello World 7\n",
      "Hello World 8\n",
      "Hello World 900\n",
      "Hello World 10\n"
     ]
    }
   ],
   "source": [
    "print(\"Hello World abc\")\n",
    "print(\"Hello World 7\")\n",
    "print(\"Hello World 8\")\n",
    "print(\"Hello World 900\")\n",
    "print(\"Hello World 10\")"
   ]
  },
  {
   "cell_type": "markdown",
   "metadata": {},
   "source": [
    "# Strings"
   ]
  },
  {
   "cell_type": "code",
   "execution_count": null,
   "metadata": {},
   "outputs": [
    {
     "name": "stdout",
     "output_type": "stream",
     "text": [
      "Muhammad Jibran Rehan\n",
      "<class 'str'>\n",
      "2113839905456\n",
      "['capitalize', 'casefold', 'center', 'count', 'encode', 'endswith', 'expandtabs', 'find', 'format', 'format_map', 'index', 'isalnum', 'isalpha', 'isascii', 'isdecimal', 'isdigit', 'isidentifier', 'islower', 'isnumeric', 'isprintable', 'isspace', 'istitle', 'isupper', 'join', 'ljust', 'lower', 'lstrip', 'maketrans', 'partition', 'removeprefix', 'removesuffix', 'replace', 'rfind', 'rindex', 'rjust', 'rpartition', 'rsplit', 'rstrip', 'split', 'splitlines', 'startswith', 'strip', 'swapcase', 'title', 'translate', 'upper', 'zfill']\n"
     ]
    }
   ],
   "source": [
    "name = \"Muhammad Jibran Rehan\"\n",
    "print(name) #print the value of name\n",
    "print(type(name)) #print the type of name\n",
    "print(id(name)) #print the physical address of name\n",
    "print([i for i in dir(name) if \"__\" not in i]) #methods and attributes of name"
   ]
  },
  {
   "cell_type": "code",
   "execution_count": 4,
   "metadata": {},
   "outputs": [
    {
     "name": "stdout",
     "output_type": "stream",
     "text": [
      "700\n",
      "<class 'int'>\n",
      "2113839745520\n",
      "['as_integer_ratio', 'bit_count', 'bit_length', 'conjugate', 'denominator', 'from_bytes', 'imag', 'is_integer', 'numerator', 'real', 'to_bytes']\n"
     ]
    }
   ],
   "source": [
    "name = \"Muhammad Jibran Rehan\"\n",
    "name = 700\n",
    "print(name) #print the value of name\n",
    "print(type(name)) #print the type of name\n",
    "print(id(name)) #print the physical address of name\n",
    "print([i for i in dir(name) if \"__\" not in i]) #methods and attributes of name"
   ]
  },
  {
   "cell_type": "code",
   "execution_count": 5,
   "metadata": {},
   "outputs": [
    {
     "name": "stdout",
     "output_type": "stream",
     "text": [
      "700\n"
     ]
    }
   ],
   "source": [
    "names : str = 700\n",
    "print(names)"
   ]
  },
  {
   "cell_type": "code",
   "execution_count": 7,
   "metadata": {},
   "outputs": [
    {
     "name": "stdout",
     "output_type": "stream",
     "text": [
      "700\n",
      "<class 'int'>\n",
      "2113839743024\n",
      "['as_integer_ratio', 'bit_count', 'bit_length', 'conjugate', 'denominator', 'from_bytes', 'imag', 'is_integer', 'numerator', 'real', 'to_bytes']\n"
     ]
    }
   ],
   "source": [
    "name : str = 700 # Number / Integer\n",
    "print(name) #print the value of name\n",
    "print(type(name)) #print the type of name\n",
    "print(id(name)) #print the physical address of name\n",
    "print([i for i in dir(name) if \"__\" not in i]) #methods and attributes of name\n"
   ]
  },
  {
   "cell_type": "code",
   "execution_count": 8,
   "metadata": {},
   "outputs": [
    {
     "name": "stdout",
     "output_type": "stream",
     "text": [
      "True\n",
      "<class 'bool'>\n",
      "140710151523024\n",
      "['as_integer_ratio', 'bit_count', 'bit_length', 'conjugate', 'denominator', 'from_bytes', 'imag', 'is_integer', 'numerator', 'real', 'to_bytes']\n"
     ]
    }
   ],
   "source": [
    "name : bool = True # Number / Integer\n",
    "print(name) #print the value of name\n",
    "print(type(name)) #print the type of name\n",
    "print(id(name)) #print the physical address of name\n",
    "print([i for i in dir(name) if \"__\" not in i]) #methods and attributes of name\n"
   ]
  },
  {
   "cell_type": "code",
   "execution_count": null,
   "metadata": {},
   "outputs": [
    {
     "name": "stdout",
     "output_type": "stream",
     "text": [
      "['a', 'b', 'c']\n",
      "<class 'list'>\n",
      "2113840219840\n",
      "['append', 'clear', 'copy', 'count', 'extend', 'index', 'insert', 'pop', 'remove', 'reverse', 'sort']\n"
     ]
    }
   ],
   "source": [
    "name : list[str]= ['a', 'b', 'c'] # Number / Integer\n",
    "print(name) #print the value of name\n",
    "print(type(name)) #print the type of name\n",
    "print(id(name)) #print the physical address of name\n",
    "print([i for i in dir(name) if \"__\" not in i]) #methods and attributes of name\n"
   ]
  },
  {
   "cell_type": "code",
   "execution_count": null,
   "metadata": {},
   "outputs": [
    {
     "name": "stdout",
     "output_type": "stream",
     "text": [
      "('a', 1, 1.1)\n",
      "<class 'tuple'>\n",
      "2113840252992\n",
      "['count', 'index']\n"
     ]
    }
   ],
   "source": [
    "name : tuple[str, int, float]= ('a', 1, 1.1)\n",
    "print(name) #print the value of name\n",
    "print(type(name)) #print the type of name\n",
    "print(id(name)) #print the physical address of name\n",
    "print([i for i in dir(name) if \"__\" not in i]) #methods and attributes of name"
   ]
  },
  {
   "cell_type": "code",
   "execution_count": null,
   "metadata": {},
   "outputs": [
    {
     "name": "stdout",
     "output_type": "stream",
     "text": [
      "['a', 'b', 'c']\n",
      "<class 'list'>\n",
      "2113840229952\n",
      "['append', 'clear', 'copy', 'count', 'extend', 'index', 'insert', 'pop', 'remove', 'reverse', 'sort']\n"
     ]
    }
   ],
   "source": [
    "name : any = ['a','b', 'c']\n",
    "print(name) #print the value of name\n",
    "print(type(name)) #print the type of name\n",
    "print(id(name)) #print the physical address of name\n",
    "print([i for i in dir(name) if \"__\" not in i]) #methods and attributes of name\n"
   ]
  }
 ],
 "metadata": {
  "kernelspec": {
   "display_name": "python14",
   "language": "python",
   "name": "python3"
  },
  "language_info": {
   "codemirror_mode": {
    "name": "ipython",
    "version": 3
   },
   "file_extension": ".py",
   "mimetype": "text/x-python",
   "name": "python",
   "nbconvert_exporter": "python",
   "pygments_lexer": "ipython3",
   "version": "3.12.0"
  }
 },
 "nbformat": 4,
 "nbformat_minor": 2
}
